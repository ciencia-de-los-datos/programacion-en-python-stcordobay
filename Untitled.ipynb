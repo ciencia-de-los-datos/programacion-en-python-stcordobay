{
 "cells": [
  {
   "cell_type": "code",
   "execution_count": 1,
   "id": "c0749df9",
   "metadata": {},
   "outputs": [],
   "source": [
    "def extract_table(path=\"./data.csv\"):\n",
    "    with open(\"./data.csv\", \"r\") as file:\n",
    "        datos = file.readlines()\n",
    "        datos = list(map(lambda x:x.replace(\"\\t\", \".\").split('.') ,datos))\n",
    "    return datos"
   ]
  },
  {
   "cell_type": "code",
   "execution_count": 2,
   "id": "e4b1e968",
   "metadata": {},
   "outputs": [],
   "source": [
    "def pregunta_01():\n",
    "    datos=extract_table()\n",
    "    c=sum(list(map(int, list(zip(*datos))[1])))\n",
    "    return(c)"
   ]
  },
  {
   "cell_type": "code",
   "execution_count": 3,
   "id": "64c7a07b",
   "metadata": {},
   "outputs": [],
   "source": [
    "def pregunta_02():\n",
    "    datos=extract_table()\n",
    "    contar=[]\n",
    "    for i in sorted(set(list(list(zip(*datos))[0]))):\n",
    "        contar.append((i, list(list(zip(*datos))[0]).count(i)))\n",
    "    return contar"
   ]
  },
  {
   "cell_type": "code",
   "execution_count": 4,
   "id": "94de11d2",
   "metadata": {},
   "outputs": [],
   "source": [
    "def pregunta_03():\n",
    "    import itertools\n",
    "    datos=extract_table()\n",
    "    key_and_sum=[]\n",
    "    an_iterator=itertools.groupby(sorted(datos), lambda x:x[0])\n",
    "    for key, group in an_iterator:\n",
    "        key_and_sum.append((key,sum((list(map(lambda x: int(x[1]) ,list(group)))))))\n",
    "    return key_and_sum"
   ]
  },
  {
   "cell_type": "code",
   "execution_count": 5,
   "id": "2ad5262b",
   "metadata": {},
   "outputs": [],
   "source": [
    "def pregunta_04():\n",
    "    datos=extract_table()\n",
    "    meses=list(map(lambda x: x[2].split('-')[1], datos))\n",
    "    mes=[]\n",
    "    for i in sorted(set(meses)):\n",
    "        mes.append((i,meses.count(i)))\n",
    "    return mes"
   ]
  },
  {
   "cell_type": "code",
   "execution_count": 6,
   "id": "05c6676c",
   "metadata": {},
   "outputs": [],
   "source": [
    "def pregunta_05():\n",
    "    import itertools\n",
    "    datos=extract_table()\n",
    "    key_min_max=[]\n",
    "    an_iterator=itertools.groupby(sorted(datos), lambda x:x[0])\n",
    "    for key, group in an_iterator:\n",
    "        g=list(group)\n",
    "        key_min_max.append((key,max((list(map(lambda x: int(x[1]) ,g)))),min((list(map(lambda x: int(x[1]) ,g))))))\n",
    "    return key_min_max"
   ]
  },
  {
   "cell_type": "code",
   "execution_count": 7,
   "id": "cd425524",
   "metadata": {},
   "outputs": [],
   "source": [
    "def pregunta_06():\n",
    "    import itertools\n",
    "    datos=extract_table()\n",
    "    col5=list(itertools.chain.from_iterable(list(map(lambda y: y.split(','), \n",
    "                                                     list(map(lambda x: x.split(\"\\n\")[0], list(zip(*datos))[4]))))))\n",
    "    an_iterator=itertools.groupby(sorted(col5), lambda x:x.split(':')[0])\n",
    "    letter=[]\n",
    "    for key, group in an_iterator:\n",
    "        dat=list(group)\n",
    "        letter.append((key, \n",
    "                       min(list(map(lambda x:int(x.split(':')[1]), dat))), \n",
    "                       max(list(map(lambda x:int(x.split(':')[1]), dat)))))\n",
    "    return letter"
   ]
  },
  {
   "cell_type": "code",
   "execution_count": 8,
   "id": "eb2d20a7",
   "metadata": {},
   "outputs": [],
   "source": [
    "def pregunta_07():\n",
    "    datos=extract_table()\n",
    "    number=[]\n",
    "    for i in sorted(set(list(map(lambda x: int(x[1]),datos)))):\n",
    "        letter=[]\n",
    "        filterdata=list(map(lambda x: letter.append(x[0]) if (x[1]==str(i)) else None,datos))\n",
    "        number.append((i, letter))\n",
    "    return number"
   ]
  },
  {
   "cell_type": "code",
   "execution_count": 9,
   "id": "32d98151",
   "metadata": {},
   "outputs": [],
   "source": [
    "def pregunta_08():\n",
    "    number=pregunta_07()\n",
    "    s=[]\n",
    "    list(map(lambda x: s.append((x[0], sorted(set(x[1])))),number))\n",
    "    return s"
   ]
  },
  {
   "cell_type": "code",
   "execution_count": 15,
   "id": "9f1c3ed2",
   "metadata": {},
   "outputs": [],
   "source": [
    "def pregunta_09():\n",
    "    import itertools\n",
    "    datos=extract_table()\n",
    "    col5=list(itertools.chain.from_iterable(list(map(lambda y: y.split(','), \n",
    "                                                     list(map(lambda x: x.split(\"\\n\")[0], list(zip(*datos))[4]))))))\n",
    "    an_iterator=itertools.groupby(sorted(col5), lambda x:x.split(':')[0])\n",
    "    nletter={}\n",
    "    for key, group in an_iterator:\n",
    "        dat=list(group)\n",
    "        nletter[key]=len(dat)\n",
    "    return nletter"
   ]
  },
  {
   "cell_type": "code",
   "execution_count": 11,
   "id": "f05a2079",
   "metadata": {},
   "outputs": [],
   "source": [
    "def pregunta_10():\n",
    "    datos=extract_table()\n",
    "    lendat=[]\n",
    "    list(map(lambda x: lendat.append((x[0],len(x[3].split(',')),len(x[4].split(',')))), datos)) \n",
    "    return lendat"
   ]
  },
  {
   "cell_type": "code",
   "execution_count": 85,
   "id": "92e4e6c3",
   "metadata": {},
   "outputs": [],
   "source": [
    "def pregunta_11():\n",
    "    import itertools\n",
    "    datos=extract_table()\n",
    "    col4=list(itertools.chain.from_iterable(list(map(lambda y: y.split(','), \n",
    "                                                         list(map(lambda x: x.split(\"\\n\")[0], list(zip(*datos))[3]))))))\n",
    "    dictionary={}\n",
    "    for i in sorted(set(col4)):\n",
    "        dictionary[i]=sum(list(map(lambda x: int(x[1]), filter(lambda x: True if i in x[3].split(',') else False, datos))))\n",
    "\n",
    "    return dictionary"
   ]
  },
  {
   "cell_type": "code",
   "execution_count": 139,
   "id": "8c3a93e0",
   "metadata": {},
   "outputs": [],
   "source": [
    "def pregunta_12():\n",
    "    import itertools\n",
    "    datos=extract_table()\n",
    "    key_sum4={}\n",
    "    an_iterator=itertools.groupby(sorted(datos), lambda x:x[0])\n",
    "    for key, group in an_iterator:\n",
    "        suma=0\n",
    "        for j in list(map(lambda y:y[4].split(','), list(group))):\n",
    "            suma=suma+sum(list(map(lambda x: int(x.split(':')[1].replace('\\n','')), j)))\n",
    "        key_sum4[key]=suma\n",
    "    return key_sum4"
   ]
  },
  {
   "cell_type": "code",
   "execution_count": 140,
   "id": "255cc3a2",
   "metadata": {},
   "outputs": [
    {
     "name": "stdout",
     "output_type": "stream",
     "text": [
      "214\n",
      "[('A', 8), ('B', 7), ('C', 5), ('D', 6), ('E', 14)]\n",
      "[('A', 53), ('B', 36), ('C', 27), ('D', 31), ('E', 67)]\n",
      "[('01', 3), ('02', 4), ('03', 2), ('04', 4), ('05', 3), ('06', 3), ('07', 5), ('08', 6), ('09', 3), ('10', 2), ('11', 2), ('12', 3)]\n",
      "[('A', 9, 2), ('B', 9, 1), ('C', 9, 0), ('D', 8, 3), ('E', 9, 1)]\n",
      "[('aaa', 1, 9), ('bbb', 1, 9), ('ccc', 1, 10), ('ddd', 0, 9), ('eee', 1, 7), ('fff', 0, 9), ('ggg', 3, 10), ('hhh', 0, 9), ('iii', 0, 9), ('jjj', 5, 17)]\n",
      "[(0, ['C']), (1, ['E', 'B', 'E']), (2, ['A', 'E']), (3, ['A', 'B', 'D', 'E', 'E', 'D']), (4, ['E', 'B']), (5, ['B', 'C', 'D', 'D', 'E', 'E', 'E']), (6, ['C', 'E', 'A', 'B']), (7, ['A', 'C', 'E', 'D']), (8, ['E', 'D', 'E', 'A', 'B']), (9, ['A', 'B', 'E', 'A', 'A', 'C'])]\n",
      "[(0, ['C']), (1, ['B', 'E']), (2, ['A', 'E']), (3, ['A', 'B', 'D', 'E']), (4, ['B', 'E']), (5, ['B', 'C', 'D', 'E']), (6, ['A', 'B', 'C', 'E']), (7, ['A', 'C', 'D', 'E']), (8, ['A', 'B', 'D', 'E']), (9, ['A', 'B', 'C', 'E'])]\n",
      "{'aaa': 13, 'bbb': 16, 'ccc': 23, 'ddd': 23, 'eee': 15, 'fff': 20, 'ggg': 13, 'hhh': 16, 'iii': 18, 'jjj': 18}\n",
      "[('E', 3, 5), ('A', 3, 4), ('B', 4, 4), ('A', 2, 4), ('C', 4, 4), ('A', 2, 5), ('A', 3, 6), ('B', 2, 3), ('E', 4, 6), ('B', 4, 6), ('C', 4, 5), ('C', 4, 3), ('D', 4, 5), ('E', 2, 3), ('B', 2, 5), ('D', 2, 4), ('E', 3, 6), ('D', 2, 3), ('E', 4, 3), ('E', 2, 3), ('E', 2, 3), ('E', 3, 3), ('D', 3, 3), ('A', 3, 5), ('E', 2, 6), ('E', 3, 6), ('A', 3, 3), ('E', 3, 5), ('A', 2, 5), ('C', 4, 6), ('A', 2, 5), ('D', 2, 6), ('E', 2, 4), ('B', 3, 6), ('B', 3, 5), ('D', 2, 3), ('B', 2, 5), ('C', 4, 3), ('E', 2, 3), ('E', 3, 3)]\n",
      "{'a': 122, 'b': 49, 'c': 91, 'd': 73, 'e': 86, 'f': 134, 'g': 35}\n",
      "{'A': 177, 'B': 187, 'C': 114, 'D': 136, 'E': 324}\n"
     ]
    }
   ],
   "source": [
    "p=pregunta_01()\n",
    "print(p)\n",
    "\n",
    "p2=pregunta_02()\n",
    "print(p2)\n",
    "\n",
    "p3=pregunta_03()\n",
    "print(p3)\n",
    "\n",
    "p4=pregunta_04()\n",
    "print(p4)\n",
    "\n",
    "p5=pregunta_05()\n",
    "print(p5)\n",
    "\n",
    "p6=pregunta_06()\n",
    "print(p6)\n",
    "\n",
    "p7=pregunta_07()\n",
    "print(p7)\n",
    "\n",
    "p8=pregunta_08()\n",
    "print(p8)\n",
    "\n",
    "p9=pregunta_09()\n",
    "print(p9)\n",
    "\n",
    "p10=pregunta_10()\n",
    "print(p10)\n",
    "\n",
    "p11=pregunta_11()\n",
    "print(p11)\n",
    "\n",
    "p12=pregunta_12()\n",
    "print(p12)"
   ]
  }
 ],
 "metadata": {
  "kernelspec": {
   "display_name": "Python 3 (ipykernel)",
   "language": "python",
   "name": "python3"
  },
  "language_info": {
   "codemirror_mode": {
    "name": "ipython",
    "version": 3
   },
   "file_extension": ".py",
   "mimetype": "text/x-python",
   "name": "python",
   "nbconvert_exporter": "python",
   "pygments_lexer": "ipython3",
   "version": "3.8.16"
  }
 },
 "nbformat": 4,
 "nbformat_minor": 5
}
